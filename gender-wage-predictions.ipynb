{
 "cells": [
  {
   "attachments": {},
   "cell_type": "markdown",
   "metadata": {},
   "source": [
    "# Current Population Survey"
   ]
  },
  {
   "attachments": {},
   "cell_type": "markdown",
   "metadata": {},
   "source": [
    "## Imports"
   ]
  },
  {
   "cell_type": "code",
   "execution_count": 102,
   "metadata": {},
   "outputs": [],
   "source": [
    "import pandas as pd\n",
    "import numpy as np\n",
    "import matplotlib.pyplot as plt\n",
    "import seaborn as sns\n",
    "\n",
    "from operator import itemgetter\n",
    "\n",
    "from sklearn.model_selection import train_test_split\n",
    "from sklearn import tree\n",
    "from sklearn.tree import _tree\n",
    "from sklearn import metrics\n",
    "from sklearn.ensemble import RandomForestClassifier \n",
    "from sklearn.preprocessing import OneHotEncoder\n",
    "\n",
    "from sklearn import set_config\n",
    "from sklearn.linear_model import LogisticRegression\n",
    "from sklearn.metrics import classification_report, confusion_matrix\n"
   ]
  },
  {
   "cell_type": "code",
   "execution_count": 103,
   "metadata": {},
   "outputs": [],
   "source": [
    "# sets any scikit transformer to output in a pandas dataframe\n",
    "set_config(transform_output=\"pandas\")"
   ]
  },
  {
   "attachments": {},
   "cell_type": "markdown",
   "metadata": {},
   "source": [
    "## Preprocessing"
   ]
  },
  {
   "cell_type": "code",
   "execution_count": 104,
   "metadata": {},
   "outputs": [
    {
     "data": {
      "text/html": [
       "<div>\n",
       "<style scoped>\n",
       "    .dataframe tbody tr th:only-of-type {\n",
       "        vertical-align: middle;\n",
       "    }\n",
       "\n",
       "    .dataframe tbody tr th {\n",
       "        vertical-align: top;\n",
       "    }\n",
       "\n",
       "    .dataframe thead th {\n",
       "        text-align: right;\n",
       "    }\n",
       "</style>\n",
       "<table border=\"1\" class=\"dataframe\">\n",
       "  <thead>\n",
       "    <tr style=\"text-align: right;\">\n",
       "      <th></th>\n",
       "      <th>year</th>\n",
       "      <th>state_fip</th>\n",
       "      <th>state</th>\n",
       "      <th>metro</th>\n",
       "      <th>relation_to_head_of_house</th>\n",
       "      <th>age</th>\n",
       "      <th>gender</th>\n",
       "      <th>race</th>\n",
       "      <th>marital_status</th>\n",
       "      <th>birthplace</th>\n",
       "      <th>...</th>\n",
       "      <th>protective</th>\n",
       "      <th>foodcare</th>\n",
       "      <th>building</th>\n",
       "      <th>sales</th>\n",
       "      <th>office_admin</th>\n",
       "      <th>farmer</th>\n",
       "      <th>construction</th>\n",
       "      <th>production</th>\n",
       "      <th>transport.2</th>\n",
       "      <th>transport.3</th>\n",
       "    </tr>\n",
       "  </thead>\n",
       "  <tbody>\n",
       "    <tr>\n",
       "      <th>0</th>\n",
       "      <td>1990</td>\n",
       "      <td>36</td>\n",
       "      <td>NY</td>\n",
       "      <td>2.0</td>\n",
       "      <td>101</td>\n",
       "      <td>58</td>\n",
       "      <td>1</td>\n",
       "      <td>3</td>\n",
       "      <td>6</td>\n",
       "      <td>NaN</td>\n",
       "      <td>...</td>\n",
       "      <td>0</td>\n",
       "      <td>0</td>\n",
       "      <td>0</td>\n",
       "      <td>0</td>\n",
       "      <td>1</td>\n",
       "      <td>0</td>\n",
       "      <td>0</td>\n",
       "      <td>0</td>\n",
       "      <td>0</td>\n",
       "      <td>0</td>\n",
       "    </tr>\n",
       "    <tr>\n",
       "      <th>1</th>\n",
       "      <td>2009</td>\n",
       "      <td>5</td>\n",
       "      <td>AR</td>\n",
       "      <td>2.0</td>\n",
       "      <td>1260</td>\n",
       "      <td>28</td>\n",
       "      <td>1</td>\n",
       "      <td>1</td>\n",
       "      <td>6</td>\n",
       "      <td>9900.0</td>\n",
       "      <td>...</td>\n",
       "      <td>0</td>\n",
       "      <td>0</td>\n",
       "      <td>0</td>\n",
       "      <td>0</td>\n",
       "      <td>1</td>\n",
       "      <td>0</td>\n",
       "      <td>0</td>\n",
       "      <td>0</td>\n",
       "      <td>0</td>\n",
       "      <td>0</td>\n",
       "    </tr>\n",
       "    <tr>\n",
       "      <th>2</th>\n",
       "      <td>1990</td>\n",
       "      <td>36</td>\n",
       "      <td>NY</td>\n",
       "      <td>3.0</td>\n",
       "      <td>101</td>\n",
       "      <td>37</td>\n",
       "      <td>1</td>\n",
       "      <td>1</td>\n",
       "      <td>6</td>\n",
       "      <td>NaN</td>\n",
       "      <td>...</td>\n",
       "      <td>0</td>\n",
       "      <td>0</td>\n",
       "      <td>0</td>\n",
       "      <td>0</td>\n",
       "      <td>0</td>\n",
       "      <td>0</td>\n",
       "      <td>0</td>\n",
       "      <td>0</td>\n",
       "      <td>0</td>\n",
       "      <td>0</td>\n",
       "    </tr>\n",
       "    <tr>\n",
       "      <th>3</th>\n",
       "      <td>1990</td>\n",
       "      <td>6</td>\n",
       "      <td>CA</td>\n",
       "      <td>3.0</td>\n",
       "      <td>101</td>\n",
       "      <td>34</td>\n",
       "      <td>1</td>\n",
       "      <td>1</td>\n",
       "      <td>6</td>\n",
       "      <td>NaN</td>\n",
       "      <td>...</td>\n",
       "      <td>0</td>\n",
       "      <td>0</td>\n",
       "      <td>0</td>\n",
       "      <td>0</td>\n",
       "      <td>0</td>\n",
       "      <td>0</td>\n",
       "      <td>0</td>\n",
       "      <td>0</td>\n",
       "      <td>0</td>\n",
       "      <td>0</td>\n",
       "    </tr>\n",
       "    <tr>\n",
       "      <th>4</th>\n",
       "      <td>1981</td>\n",
       "      <td>51</td>\n",
       "      <td>VA</td>\n",
       "      <td>3.0</td>\n",
       "      <td>101</td>\n",
       "      <td>38</td>\n",
       "      <td>1</td>\n",
       "      <td>4</td>\n",
       "      <td>1</td>\n",
       "      <td>NaN</td>\n",
       "      <td>...</td>\n",
       "      <td>0</td>\n",
       "      <td>0</td>\n",
       "      <td>0</td>\n",
       "      <td>0</td>\n",
       "      <td>0</td>\n",
       "      <td>0</td>\n",
       "      <td>0</td>\n",
       "      <td>0</td>\n",
       "      <td>0</td>\n",
       "      <td>0</td>\n",
       "    </tr>\n",
       "  </tbody>\n",
       "</table>\n",
       "<p>5 rows × 85 columns</p>\n",
       "</div>"
      ],
      "text/plain": [
       "   year  state_fip state  metro  relation_to_head_of_house  age  gender  race  \\\n",
       "0  1990         36    NY    2.0                        101   58       1     3   \n",
       "1  2009          5    AR    2.0                       1260   28       1     1   \n",
       "2  1990         36    NY    3.0                        101   37       1     1   \n",
       "3  1990          6    CA    3.0                        101   34       1     1   \n",
       "4  1981         51    VA    3.0                        101   38       1     4   \n",
       "\n",
       "   marital_status  birthplace  ...  protective  foodcare  building  sales  \\\n",
       "0               6         NaN  ...           0         0         0      0   \n",
       "1               6      9900.0  ...           0         0         0      0   \n",
       "2               6         NaN  ...           0         0         0      0   \n",
       "3               6         NaN  ...           0         0         0      0   \n",
       "4               1         NaN  ...           0         0         0      0   \n",
       "\n",
       "   office_admin  farmer  construction  production  transport.2  transport.3  \n",
       "0             1       0             0           0            0            0  \n",
       "1             1       0             0           0            0            0  \n",
       "2             0       0             0           0            0            0  \n",
       "3             0       0             0           0            0            0  \n",
       "4             0       0             0           0            0            0  \n",
       "\n",
       "[5 rows x 85 columns]"
      ]
     },
     "execution_count": 104,
     "metadata": {},
     "output_type": "execute_result"
    }
   ],
   "source": [
    "# read in the csv to a df\n",
    "df = pd.read_csv('final_cps_data.csv')\n",
    "df.head()"
   ]
  },
  {
   "cell_type": "code",
   "execution_count": 105,
   "metadata": {},
   "outputs": [],
   "source": [
    "# filter dataset to 2013. Prevents YoY changes from negatively impacting our predictions by removing YoY variability\n",
    "df = df[df['year']==df['year'].max()]\n",
    "\n",
    "# cleaning out duplicate columns, columns with no mappings (can't translate numbers to categorical) and non-useful columns (all rows have same value)\n",
    "firstcoldrops = ['year','metro','birthplace','race',\n",
    "                 'state_fip','longest_job_earnings',\n",
    "                 'hours_per_week','hourly_wage',\n",
    "                 'wage_inflation_factor','year_of_immigration',\n",
    "                 'real_hourly_wage','personal_consumption_expenditure',\n",
    "                 'occupation_category','family_type','mother_birthplace',\n",
    "                 'father_birthplace','citizen','foreign_birthplace',\n",
    "                 'grade_level_achieved','worker_class_last_year',\n",
    "                 'not_inputed_income','high_school_or_less','bachelors_degree','advanced_degree']"
   ]
  },
  {
   "cell_type": "code",
   "execution_count": 106,
   "metadata": {},
   "outputs": [
    {
     "data": {
      "text/html": [
       "<div>\n",
       "<style scoped>\n",
       "    .dataframe tbody tr th:only-of-type {\n",
       "        vertical-align: middle;\n",
       "    }\n",
       "\n",
       "    .dataframe tbody tr th {\n",
       "        vertical-align: top;\n",
       "    }\n",
       "\n",
       "    .dataframe thead th {\n",
       "        text-align: right;\n",
       "    }\n",
       "</style>\n",
       "<table border=\"1\" class=\"dataframe\">\n",
       "  <thead>\n",
       "    <tr style=\"text-align: right;\">\n",
       "      <th></th>\n",
       "      <th>state</th>\n",
       "      <th>relation_to_head_of_house</th>\n",
       "      <th>age</th>\n",
       "      <th>gender</th>\n",
       "      <th>marital_status</th>\n",
       "      <th>employment_status</th>\n",
       "      <th>worker_class</th>\n",
       "      <th>weeks_worked_last_year</th>\n",
       "      <th>union_member_status</th>\n",
       "      <th>income</th>\n",
       "      <th>...</th>\n",
       "      <th>protective</th>\n",
       "      <th>foodcare</th>\n",
       "      <th>building</th>\n",
       "      <th>sales</th>\n",
       "      <th>office_admin</th>\n",
       "      <th>farmer</th>\n",
       "      <th>construction</th>\n",
       "      <th>production</th>\n",
       "      <th>transport.2</th>\n",
       "      <th>transport.3</th>\n",
       "    </tr>\n",
       "  </thead>\n",
       "  <tbody>\n",
       "    <tr>\n",
       "      <th>20</th>\n",
       "      <td>VT</td>\n",
       "      <td>101</td>\n",
       "      <td>62</td>\n",
       "      <td>1</td>\n",
       "      <td>6</td>\n",
       "      <td>10</td>\n",
       "      <td>21</td>\n",
       "      <td>52</td>\n",
       "      <td>1.0</td>\n",
       "      <td>57000.0</td>\n",
       "      <td>...</td>\n",
       "      <td>0</td>\n",
       "      <td>0</td>\n",
       "      <td>0</td>\n",
       "      <td>0</td>\n",
       "      <td>0</td>\n",
       "      <td>0</td>\n",
       "      <td>0</td>\n",
       "      <td>0</td>\n",
       "      <td>0</td>\n",
       "      <td>0</td>\n",
       "    </tr>\n",
       "    <tr>\n",
       "      <th>32</th>\n",
       "      <td>OH</td>\n",
       "      <td>201</td>\n",
       "      <td>59</td>\n",
       "      <td>1</td>\n",
       "      <td>1</td>\n",
       "      <td>10</td>\n",
       "      <td>25</td>\n",
       "      <td>50</td>\n",
       "      <td>0.0</td>\n",
       "      <td>62000.0</td>\n",
       "      <td>...</td>\n",
       "      <td>0</td>\n",
       "      <td>0</td>\n",
       "      <td>0</td>\n",
       "      <td>0</td>\n",
       "      <td>0</td>\n",
       "      <td>0</td>\n",
       "      <td>1</td>\n",
       "      <td>0</td>\n",
       "      <td>0</td>\n",
       "      <td>0</td>\n",
       "    </tr>\n",
       "    <tr>\n",
       "      <th>34</th>\n",
       "      <td>RI</td>\n",
       "      <td>101</td>\n",
       "      <td>44</td>\n",
       "      <td>1</td>\n",
       "      <td>1</td>\n",
       "      <td>10</td>\n",
       "      <td>21</td>\n",
       "      <td>52</td>\n",
       "      <td>0.0</td>\n",
       "      <td>45000.0</td>\n",
       "      <td>...</td>\n",
       "      <td>0</td>\n",
       "      <td>0</td>\n",
       "      <td>0</td>\n",
       "      <td>0</td>\n",
       "      <td>0</td>\n",
       "      <td>0</td>\n",
       "      <td>0</td>\n",
       "      <td>0</td>\n",
       "      <td>0</td>\n",
       "      <td>0</td>\n",
       "    </tr>\n",
       "    <tr>\n",
       "      <th>36</th>\n",
       "      <td>FL</td>\n",
       "      <td>101</td>\n",
       "      <td>41</td>\n",
       "      <td>1</td>\n",
       "      <td>4</td>\n",
       "      <td>10</td>\n",
       "      <td>21</td>\n",
       "      <td>52</td>\n",
       "      <td>1.0</td>\n",
       "      <td>28000.0</td>\n",
       "      <td>...</td>\n",
       "      <td>0</td>\n",
       "      <td>0</td>\n",
       "      <td>0</td>\n",
       "      <td>0</td>\n",
       "      <td>0</td>\n",
       "      <td>0</td>\n",
       "      <td>0</td>\n",
       "      <td>0</td>\n",
       "      <td>0</td>\n",
       "      <td>0</td>\n",
       "    </tr>\n",
       "    <tr>\n",
       "      <th>37</th>\n",
       "      <td>NH</td>\n",
       "      <td>201</td>\n",
       "      <td>35</td>\n",
       "      <td>1</td>\n",
       "      <td>1</td>\n",
       "      <td>10</td>\n",
       "      <td>21</td>\n",
       "      <td>50</td>\n",
       "      <td>0.0</td>\n",
       "      <td>42500.0</td>\n",
       "      <td>...</td>\n",
       "      <td>0</td>\n",
       "      <td>0</td>\n",
       "      <td>0</td>\n",
       "      <td>0</td>\n",
       "      <td>0</td>\n",
       "      <td>0</td>\n",
       "      <td>0</td>\n",
       "      <td>0</td>\n",
       "      <td>0</td>\n",
       "      <td>1</td>\n",
       "    </tr>\n",
       "  </tbody>\n",
       "</table>\n",
       "<p>5 rows × 60 columns</p>\n",
       "</div>"
      ],
      "text/plain": [
       "   state  relation_to_head_of_house  age  gender  marital_status  \\\n",
       "20    VT                        101   62       1               6   \n",
       "32    OH                        201   59       1               1   \n",
       "34    RI                        101   44       1               1   \n",
       "36    FL                        101   41       1               4   \n",
       "37    NH                        201   35       1               1   \n",
       "\n",
       "    employment_status  worker_class  weeks_worked_last_year  \\\n",
       "20                 10            21                      52   \n",
       "32                 10            25                      50   \n",
       "34                 10            21                      52   \n",
       "36                 10            21                      52   \n",
       "37                 10            21                      50   \n",
       "\n",
       "    union_member_status   income  ...  protective  foodcare  building  sales  \\\n",
       "20                  1.0  57000.0  ...           0         0         0      0   \n",
       "32                  0.0  62000.0  ...           0         0         0      0   \n",
       "34                  0.0  45000.0  ...           0         0         0      0   \n",
       "36                  1.0  28000.0  ...           0         0         0      0   \n",
       "37                  0.0  42500.0  ...           0         0         0      0   \n",
       "\n",
       "    office_admin  farmer  construction  production  transport.2  transport.3  \n",
       "20             0       0             0           0            0            0  \n",
       "32             0       0             1           0            0            0  \n",
       "34             0       0             0           0            0            0  \n",
       "36             0       0             0           0            0            0  \n",
       "37             0       0             0           0            0            1  \n",
       "\n",
       "[5 rows x 60 columns]"
      ]
     },
     "execution_count": 106,
     "metadata": {},
     "output_type": "execute_result"
    }
   ],
   "source": [
    "# drop the columns\n",
    "df = df.drop(firstcoldrops,axis=1)\n",
    "df.head()\n"
   ]
  },
  {
   "cell_type": "code",
   "execution_count": 107,
   "metadata": {},
   "outputs": [],
   "source": [
    "# convert numeric codes to strings\n",
    "df['relation_to_head_of_house'] = df['relation_to_head_of_house'].map({101:'Head', \n",
    "                                                                       201:'Spouse', \n",
    "                                                                       301:'Child', \n",
    "                                                                       303:'Stepchild', \n",
    "                                                                       501:'Parent', \n",
    "                                                                       701:'Sibling', \n",
    "                                                                       901:'Grandchild', \n",
    "                                                                       1001:'Other', \n",
    "                                                                       1113:'Partner', \n",
    "                                                                       1114:'Unmarried', \n",
    "                                                                       1115:'Housemate', \n",
    "                                                                       1241:'Roomer', \n",
    "                                                                       1242:'Foster', \n",
    "                                                                       126:'Other'})\n",
    "\n",
    "df['marital_status'] = df['marital_status'].map({1:'Married Spouse Present', \n",
    "                                                2:'Married Spouse Absent', \n",
    "                                                3:'Separated', \n",
    "                                                4:'Divorced', \n",
    "                                                5:'Widowed', \n",
    "                                                6:'Never Married'})\n",
    "\n",
    "df['worker_class'] = df['worker_class'].map({21:'Private Sector', \n",
    "                                                25:'Federal', \n",
    "                                                27:'State', \n",
    "                                                28:'Local', \n",
    "                                                29:'Unpaid Family Worker'})\n",
    "\n",
    "df['employment_status'] = df['employment_status'].map({10:'Employed', \n",
    "                                                12:'Unemployed'})\n",
    "\n",
    "df['gender'] = df['gender'].map({1:'Male', \n",
    "                                2:'Female'})"
   ]
  },
  {
   "cell_type": "code",
   "execution_count": 108,
   "metadata": {},
   "outputs": [],
   "source": [
    "# convert our target variable into a few bins and make it categorical\n",
    "# we base this on tax brackets for single filers (US 2022, https://www.nerdwallet.com/article/taxes/federal-income-tax-brackets)\n",
    "# for the three highest brackets we just bucket them together since they're so few\n",
    "df['income_cats'] = pd.cut(df['income'],bins=[0,10275,41775,90875,170050,100000000],\n",
    "                           right=True,\n",
    "                           labels=['Lowest',\n",
    "                                'Low',\n",
    "                                'Medium',\n",
    "                                'Medium-High',\n",
    "                                'High'])\n",
    "\n",
    "#drop the old column\n",
    "df = df.drop('income',axis=1)"
   ]
  },
  {
   "attachments": {},
   "cell_type": "markdown",
   "metadata": {},
   "source": [
    "## Train Test Split"
   ]
  },
  {
   "cell_type": "code",
   "execution_count": 109,
   "metadata": {},
   "outputs": [
    {
     "name": "stdout",
     "output_type": "stream",
     "text": [
      "(53790, 59)\n",
      "(53790,)\n"
     ]
    }
   ],
   "source": [
    "# set our target\n",
    "TARGET = 'income_cats'\n",
    "\n",
    "# create our X which are our features\n",
    "X = df.copy()\n",
    "# remove our target variable\n",
    "X = X.drop(TARGET,axis=1)\n",
    "\n",
    "\n",
    "\n",
    "# create our Y which is what we are predicting\n",
    "Y = df.copy()\n",
    "Y = Y[TARGET]\n",
    "\n",
    "# print the shape to make sure that the X and Y \n",
    "# have the same number of rows\n",
    "print(X.shape)\n",
    "print(Y.shape)\n",
    "\n"
   ]
  },
  {
   "cell_type": "code",
   "execution_count": 110,
   "metadata": {},
   "outputs": [],
   "source": [
    "# split our data\n",
    "# keep 80% for training\n",
    "# keep 20% for testing\n",
    "X_train, X_test, Y_train, Y_test = train_test_split(X,\n",
    "                                                    Y, \n",
    "                                                    train_size=0.8,\n",
    "                                                    test_size=.2,\n",
    "                                                    stratify=Y)"
   ]
  },
  {
   "cell_type": "code",
   "execution_count": 111,
   "metadata": {},
   "outputs": [],
   "source": [
    "# 1-hot encode our data\n",
    "ohe = OneHotEncoder(handle_unknown = 'ignore',sparse_output=False)\n",
    "\n",
    "# only fit the encoder to the categorical variables\n",
    "# create a subset of just categorical variables for the train set\n",
    "X_train_objects = X_train.select_dtypes('object')\n",
    "# actually fit the encoder\n",
    "ohe.fit(X_train_objects)\n",
    "\n",
    "#create a subset of just categorical variables for the test set\n",
    "X_test_objects = X_test.select_dtypes('object')\n",
    "\n",
    "# for the training data set transform the categorical then concat it with the numerical\n",
    "x_train_transformed = pd.concat((ohe.transform(X_train_objects),X_train.select_dtypes(exclude='object')),axis=1)\n",
    "\n",
    "#do the same for test\n",
    "x_test_transformed =  pd.concat((ohe.transform(X_test_objects),X_test.select_dtypes(exclude='object')),axis=1)"
   ]
  },
  {
   "attachments": {},
   "cell_type": "markdown",
   "metadata": {},
   "source": [
    "## All Variables Logistic Regression"
   ]
  },
  {
   "cell_type": "code",
   "execution_count": 112,
   "metadata": {},
   "outputs": [],
   "source": [
    "# get the coefficients function\n",
    "# this function just returns a dictionary of the coefficient and the feature\n",
    "def getCoefLogit( MODEL, TRAIN_DATA ) :\n",
    "    varNames = list( TRAIN_DATA.columns.values )\n",
    "    coef_dict = {}\n",
    "    coef_dict[\"INTERCEPT\"] = MODEL.intercept_[0]\n",
    "    for coef, feat in zip(MODEL.coef_[0],varNames):\n",
    "        coef_dict[feat] = coef\n",
    "    return coef_dict"
   ]
  },
  {
   "cell_type": "code",
   "execution_count": 113,
   "metadata": {},
   "outputs": [
    {
     "name": "stderr",
     "output_type": "stream",
     "text": [
      "c:\\Users\\TK\\Anaconda3\\lib\\site-packages\\sklearn\\linear_model\\_logistic.py:458: ConvergenceWarning: lbfgs failed to converge (status=1):\n",
      "STOP: TOTAL NO. of ITERATIONS REACHED LIMIT.\n",
      "\n",
      "Increase the number of iterations (max_iter) or scale the data as shown in:\n",
      "    https://scikit-learn.org/stable/modules/preprocessing.html\n",
      "Please also refer to the documentation for alternative solver options:\n",
      "    https://scikit-learn.org/stable/modules/linear_model.html#logistic-regression\n",
      "  n_iter_i = _check_optimize_result(\n"
     ]
    }
   ],
   "source": [
    "# init the model\n",
    "# random state of 111 for reproduceability\n",
    "lr = LogisticRegression(random_state=111)\n",
    "\n",
    "# fit the model\n",
    "lr = lr.fit(x_train_transformed,Y_train)\n",
    "\n",
    "# predict with the model\n",
    "Y_Pred_Train = lr.predict(x_train_transformed)\n",
    "Y_Pred_Test = lr.predict(x_test_transformed)"
   ]
  },
  {
   "cell_type": "code",
   "execution_count": 114,
   "metadata": {},
   "outputs": [
    {
     "name": "stdout",
     "output_type": "stream",
     "text": [
      "training accuracy =  0.591652723554564\n",
      "testing accuracy =  0.5846811675032534\n"
     ]
    }
   ],
   "source": [
    "# now return the accuracy of each prediction\n",
    "train_acc = metrics.accuracy_score(Y_train, Y_Pred_Train)\n",
    "test_acc = metrics.accuracy_score(Y_test, Y_Pred_Test)\n",
    "\n",
    "# print the accuracy\n",
    "print('training accuracy = ', train_acc)\n",
    "print('testing accuracy = ', test_acc)"
   ]
  },
  {
   "attachments": {},
   "cell_type": "markdown",
   "metadata": {},
   "source": [
    "## Random Forest"
   ]
  },
  {
   "attachments": {},
   "cell_type": "markdown",
   "metadata": {},
   "source": [
    "Since the logistic regression didn't perform too well. Let's try a random forest"
   ]
  },
  {
   "cell_type": "code",
   "execution_count": 115,
   "metadata": {},
   "outputs": [],
   "source": [
    "# for the random forest, get the features the model finds important\n",
    "# returns the feature and the importance score\n",
    "def getEnsembleTreeVars(ENSTREE, varNames) :\n",
    "    importance = ENSTREE.feature_importances_\n",
    "    index = np.argsort(importance)\n",
    "    theList = []\n",
    "    for i in index :\n",
    "        imp_val = importance[i]\n",
    "        if imp_val > np.average(ENSTREE.feature_importances_) :\n",
    "            v = int(imp_val / np.max(ENSTREE.feature_importances_) * 100)\n",
    "            theList.append((varNames[i], v))\n",
    "    theList = sorted(theList,key=itemgetter(1),reverse=True)\n",
    "    return theList\n"
   ]
  },
  {
   "cell_type": "code",
   "execution_count": 116,
   "metadata": {},
   "outputs": [],
   "source": [
    "# create a random forest instance\n",
    "# random_state of 111 for reproduceability\n",
    "rf = RandomForestClassifier(max_depth=5,random_state=111)\n",
    "\n",
    "# fit it\n",
    "rf = rf.fit(x_train_transformed,Y_train)\n",
    "\n",
    "#predict it\n",
    "rf_ypred_train = rf.predict(x_train_transformed)\n",
    "rf_ypred_test = rf.predict(x_test_transformed)"
   ]
  },
  {
   "cell_type": "code",
   "execution_count": 117,
   "metadata": {},
   "outputs": [
    {
     "name": "stdout",
     "output_type": "stream",
     "text": [
      "training accuracy =  0.556283695854248\n",
      "testing accuracy =  0.5476854433909648\n"
     ]
    }
   ],
   "source": [
    "# get the accuracy scores\n",
    "rf_train_acc = metrics.accuracy_score(Y_train, rf_ypred_train)\n",
    "rf_test_acc = metrics.accuracy_score(Y_test, rf_ypred_test)\n",
    "\n",
    "# print the accuracy scores\n",
    "print('training accuracy = ', rf_train_acc)\n",
    "print('testing accuracy = ', rf_test_acc)"
   ]
  },
  {
   "cell_type": "code",
   "execution_count": 118,
   "metadata": {},
   "outputs": [
    {
     "data": {
      "text/plain": [
       "feature 0      0.000073\n",
       "feature 1      0.000142\n",
       "feature 2      0.000063\n",
       "feature 3      0.000052\n",
       "feature 4      0.000116\n",
       "                 ...   \n",
       "feature 126    0.001155\n",
       "feature 127    0.001544\n",
       "feature 128    0.006242\n",
       "feature 129    0.001460\n",
       "feature 130    0.003961\n",
       "Length: 131, dtype: float64"
      ]
     },
     "execution_count": 118,
     "metadata": {},
     "output_type": "execute_result"
    }
   ],
   "source": [
    "# for anonymized feature name + importance score\n",
    "importances = rf.feature_importances_\n",
    "feature_names = [f\"feature {i}\" for i in range(x_train_transformed.shape[1])]\n",
    "forest_importances = pd.Series(importances, index=feature_names)\n",
    "forest_importances"
   ]
  },
  {
   "cell_type": "code",
   "execution_count": 119,
   "metadata": {},
   "outputs": [
    {
     "name": "stdout",
     "output_type": "stream",
     "text": [
      "[('full_time_job', 100), ('weeks_worked_last_year', 72), ('manager', 37), ('foodcare', 36), ('hisp', 30), ('gender_Female', 29), ('gender_Male', 26), ('white', 19), ('computer', 17), ('marital_status_Married Spouse Present', 15), ('building', 15), ('office_admin', 14), ('age', 12), ('hospitality', 11), ('healthsupport', 10), ('worker_class_Private Sector', 10), ('architect', 9), ('physicians', 9), ('marital_status_Never Married', 8), ('healthcare', 7), ('worker_class_Federal', 6), ('retail_trade', 4), ('public_admin', 4)]\n"
     ]
    }
   ],
   "source": [
    "# get the actual name of the feature + importance score\n",
    "rf_vars = getEnsembleTreeVars(rf,x_test_transformed.columns.to_list())\n",
    "print(rf_vars)"
   ]
  },
  {
   "cell_type": "code",
   "execution_count": 120,
   "metadata": {},
   "outputs": [
    {
     "data": {
      "text/plain": [
       "array([[   0,   66,    0,  163,    0],\n",
       "       [   0, 4380,    0,  611,    0],\n",
       "       [   0,  740,    3,    5,    0],\n",
       "       [   0, 2301,    0, 1509,    0],\n",
       "       [   0,  368,    0,  612,    0]], dtype=int64)"
      ]
     },
     "execution_count": 120,
     "metadata": {},
     "output_type": "execute_result"
    }
   ],
   "source": [
    "confusion_matrix(Y_test, rf_ypred_test)"
   ]
  },
  {
   "cell_type": "code",
   "execution_count": 121,
   "metadata": {},
   "outputs": [
    {
     "data": {
      "image/png": "[encoded data removed]",
      "text/plain": [
       "<Figure size 1600x700 with 2 Axes>"
      ]
     },
     "metadata": {},
     "output_type": "display_data"
    }
   ],
   "source": [
    "# Get and reshape confusion matrix data\n",
    "matrix = confusion_matrix(Y_test, rf_ypred_test)\n",
    "matrix = matrix.astype('float') / matrix.sum(axis=1)[:, np.newaxis]\n",
    "\n",
    "# Build the plot\n",
    "plt.figure(figsize=(16,7))\n",
    "sns.set(font_scale=1.4)\n",
    "sns.heatmap(matrix, annot=True, annot_kws={'size':10},\n",
    "            cmap=plt.cm.Greens, linewidths=0.2)\n",
    "\n",
    "# Add labels to the plot\n",
    "class_names = ['Lowest','Low','Medium','Medium-High','High']\n",
    "tick_marks = np.arange(len(class_names))+0.5\n",
    "tick_marks2 = tick_marks\n",
    "plt.xticks(tick_marks, class_names, rotation=0)\n",
    "plt.yticks(tick_marks2, class_names, rotation=0)\n",
    "plt.xlabel('Predicted label')\n",
    "plt.ylabel('True label')\n",
    "plt.title('Confusion Matrix for RF Model')\n",
    "plt.show()"
   ]
  },
  {
   "cell_type": "code",
   "execution_count": 123,
   "metadata": {},
   "outputs": [
    {
     "name": "stdout",
     "output_type": "stream",
     "text": [
      "              precision    recall  f1-score   support\n",
      "\n",
      "        High       0.00      0.00      0.00       229\n",
      "         Low       0.56      0.88      0.68      4991\n",
      "      Lowest       1.00      0.00      0.01       748\n",
      "      Medium       0.52      0.40      0.45      3810\n",
      " Medium-High       0.00      0.00      0.00       980\n",
      "\n",
      "    accuracy                           0.55     10758\n",
      "   macro avg       0.42      0.26      0.23     10758\n",
      "weighted avg       0.51      0.55      0.48     10758\n",
      "\n"
     ]
    },
    {
     "name": "stderr",
     "output_type": "stream",
     "text": [
      "c:\\Users\\TK\\Anaconda3\\lib\\site-packages\\sklearn\\metrics\\_classification.py:1344: UndefinedMetricWarning: Precision and F-score are ill-defined and being set to 0.0 in labels with no predicted samples. Use `zero_division` parameter to control this behavior.\n",
      "  _warn_prf(average, modifier, msg_start, len(result))\n",
      "c:\\Users\\TK\\Anaconda3\\lib\\site-packages\\sklearn\\metrics\\_classification.py:1344: UndefinedMetricWarning: Precision and F-score are ill-defined and being set to 0.0 in labels with no predicted samples. Use `zero_division` parameter to control this behavior.\n",
      "  _warn_prf(average, modifier, msg_start, len(result))\n",
      "c:\\Users\\TK\\Anaconda3\\lib\\site-packages\\sklearn\\metrics\\_classification.py:1344: UndefinedMetricWarning: Precision and F-score are ill-defined and being set to 0.0 in labels with no predicted samples. Use `zero_division` parameter to control this behavior.\n",
      "  _warn_prf(average, modifier, msg_start, len(result))\n"
     ]
    }
   ],
   "source": [
    "print(classification_report(Y_test, rf_ypred_test))"
   ]
  },
  {
   "cell_type": "code",
   "execution_count": 124,
   "metadata": {},
   "outputs": [
    {
     "data": {
      "text/plain": [
       "{'High', 'Medium-High'}"
      ]
     },
     "execution_count": 124,
     "metadata": {},
     "output_type": "execute_result"
    }
   ],
   "source": [
    "set(Y_test) - set(rf_ypred_test)"
   ]
  },
  {
   "attachments": {},
   "cell_type": "markdown",
   "metadata": {},
   "source": [
    "## ROS"
   ]
  },
  {
   "cell_type": "code",
   "execution_count": 125,
   "metadata": {},
   "outputs": [
    {
     "data": {
      "text/plain": [
       "Lowest         19967\n",
       "Low            19967\n",
       "Medium         19967\n",
       "Medium-High    19967\n",
       "High           19967\n",
       "Name: income_cats, dtype: int64"
      ]
     },
     "execution_count": 125,
     "metadata": {},
     "output_type": "execute_result"
    }
   ],
   "source": [
    "\n",
    "from imblearn.over_sampling import RandomOverSampler\n",
    "\n",
    "ros = RandomOverSampler(random_state=1)\n",
    "\n",
    "X_res, y_res = ros.fit_resample(x_train_transformed, Y_train)\n",
    "y_res.value_counts()"
   ]
  },
  {
   "cell_type": "code",
   "execution_count": 127,
   "metadata": {},
   "outputs": [
    {
     "name": "stderr",
     "output_type": "stream",
     "text": [
      "c:\\Users\\TK\\Anaconda3\\lib\\site-packages\\sklearn\\linear_model\\_logistic.py:458: ConvergenceWarning: lbfgs failed to converge (status=1):\n",
      "STOP: TOTAL NO. of ITERATIONS REACHED LIMIT.\n",
      "\n",
      "Increase the number of iterations (max_iter) or scale the data as shown in:\n",
      "    https://scikit-learn.org/stable/modules/preprocessing.html\n",
      "Please also refer to the documentation for alternative solver options:\n",
      "    https://scikit-learn.org/stable/modules/linear_model.html#logistic-regression\n",
      "  n_iter_i = _check_optimize_result(\n"
     ]
    }
   ],
   "source": [
    "# Instantiate the Logistic Regression model\n",
    "# Assign a random_state parameter of 1 to the model\n",
    "# YOUR CODE HERE!\n",
    "ros_model = LogisticRegression(random_state=1)\n",
    "# Fit the model using the resampled training data\n",
    "# YOUR CODE HERE!\n",
    "ros_model = ros_model.fit(X_res, y_res)\n",
    "# Make a prediction using the testing data\n",
    "# YOUR CODE HERE!\n",
    "ros_training_predictions = ros_model.predict(X_res)\n",
    "\n",
    "ros_testing_predictions = ros_model.predict(x_test_transformed)\n",
    "\n"
   ]
  },
  {
   "cell_type": "code",
   "execution_count": 128,
   "metadata": {},
   "outputs": [
    {
     "name": "stdout",
     "output_type": "stream",
     "text": [
      "train accuracy 0.5167927079681475\n",
      "test accuracy 0.45361591373861315\n"
     ]
    }
   ],
   "source": [
    "print('train accuracy',metrics.accuracy_score(y_res, ros_training_predictions))\n",
    "print('test accuracy',metrics.accuracy_score(Y_test, ros_testing_predictions))"
   ]
  },
  {
   "cell_type": "code",
   "execution_count": 130,
   "metadata": {},
   "outputs": [],
   "source": [
    "# create a random forest instance\n",
    "# random_state of 111 for reproduceability\n",
    "rf2 = RandomForestClassifier(max_depth=5,random_state=111)\n",
    "\n",
    "# fit it\n",
    "rf2 = rf2.fit(X_res,y_res)\n",
    "\n",
    "#predict it\n",
    "rf2_ypred_train = rf2.predict(X_res)\n",
    "rf2_ypred_test = rf2.predict(x_test_transformed)"
   ]
  },
  {
   "cell_type": "code",
   "execution_count": 132,
   "metadata": {},
   "outputs": [
    {
     "name": "stdout",
     "output_type": "stream",
     "text": [
      "training accuracy =  0.546702058396354\n",
      "testing accuracy =  0.4329801078267336\n"
     ]
    }
   ],
   "source": [
    "# get the accuracy scores\n",
    "rf2_train_acc = metrics.accuracy_score(y_res, rf2_ypred_train)\n",
    "rf2_test_acc = metrics.accuracy_score(Y_test, rf2_ypred_test)\n",
    "\n",
    "# print the accuracy scores\n",
    "print('training accuracy = ', rf2_train_acc)\n",
    "print('testing accuracy = ', rf2_test_acc)"
   ]
  },
  {
   "cell_type": "code",
   "execution_count": 133,
   "metadata": {},
   "outputs": [
    {
     "data": {
      "image/png": "[encoded data removed]",
      "text/plain": [
       "<Figure size 1600x700 with 2 Axes>"
      ]
     },
     "metadata": {},
     "output_type": "display_data"
    }
   ],
   "source": [
    "# Get and reshape confusion matrix data\n",
    "matrix2 = confusion_matrix(Y_test, rf2_ypred_test)\n",
    "matrix2 = matrix2.astype('float') / matrix2.sum(axis=1)[:, np.newaxis]\n",
    "\n",
    "# Build the plot\n",
    "plt.figure(figsize=(16,7))\n",
    "sns.set(font_scale=1.4)\n",
    "sns.heatmap(matrix2, annot=True, annot_kws={'size':10},\n",
    "            cmap=plt.cm.Greens, linewidths=0.2)\n",
    "\n",
    "# Add labels to the plot\n",
    "class_names = ['Lowest','Low','Medium','Medium-High','High']\n",
    "tick_marks = np.arange(len(class_names))+0.5\n",
    "tick_marks2 = tick_marks\n",
    "plt.xticks(tick_marks, class_names, rotation=0)\n",
    "plt.yticks(tick_marks2, class_names, rotation=0)\n",
    "plt.xlabel('Predicted label')\n",
    "plt.ylabel('True label')\n",
    "plt.title('Confusion matrix2 for RF Model')\n",
    "plt.show()"
   ]
  },
  {
   "cell_type": "code",
   "execution_count": 135,
   "metadata": {},
   "outputs": [
    {
     "name": "stdout",
     "output_type": "stream",
     "text": [
      "              precision    recall  f1-score   support\n",
      "\n",
      "        High       0.00      0.00      0.00       229\n",
      "         Low       0.56      0.88      0.68      4991\n",
      "      Lowest       1.00      0.00      0.01       748\n",
      "      Medium       0.52      0.40      0.45      3810\n",
      " Medium-High       0.00      0.00      0.00       980\n",
      "\n",
      "    accuracy                           0.55     10758\n",
      "   macro avg       0.42      0.26      0.23     10758\n",
      "weighted avg       0.51      0.55      0.48     10758\n",
      "\n"
     ]
    },
    {
     "name": "stderr",
     "output_type": "stream",
     "text": [
      "c:\\Users\\TK\\Anaconda3\\lib\\site-packages\\sklearn\\metrics\\_classification.py:1344: UndefinedMetricWarning: Precision and F-score are ill-defined and being set to 0.0 in labels with no predicted samples. Use `zero_division` parameter to control this behavior.\n",
      "  _warn_prf(average, modifier, msg_start, len(result))\n",
      "c:\\Users\\TK\\Anaconda3\\lib\\site-packages\\sklearn\\metrics\\_classification.py:1344: UndefinedMetricWarning: Precision and F-score are ill-defined and being set to 0.0 in labels with no predicted samples. Use `zero_division` parameter to control this behavior.\n",
      "  _warn_prf(average, modifier, msg_start, len(result))\n",
      "c:\\Users\\TK\\Anaconda3\\lib\\site-packages\\sklearn\\metrics\\_classification.py:1344: UndefinedMetricWarning: Precision and F-score are ill-defined and being set to 0.0 in labels with no predicted samples. Use `zero_division` parameter to control this behavior.\n",
      "  _warn_prf(average, modifier, msg_start, len(result))\n"
     ]
    }
   ],
   "source": [
    "print(classification_report(Y_test, rf_ypred_test))"
   ]
  },
  {
   "cell_type": "code",
   "execution_count": 134,
   "metadata": {},
   "outputs": [
    {
     "name": "stdout",
     "output_type": "stream",
     "text": [
      "              precision    recall  f1-score   support\n",
      "\n",
      "        High       0.10      0.68      0.17       229\n",
      "         Low       0.68      0.47      0.55      4991\n",
      "      Lowest       0.32      0.90      0.47       748\n",
      "      Medium       0.55      0.31      0.40      3810\n",
      " Medium-High       0.22      0.32      0.26       980\n",
      "\n",
      "    accuracy                           0.43     10758\n",
      "   macro avg       0.37      0.54      0.37     10758\n",
      "weighted avg       0.55      0.43      0.46     10758\n",
      "\n"
     ]
    }
   ],
   "source": [
    "print(classification_report(Y_test, rf2_ypred_test))"
   ]
  },
  {
   "attachments": {},
   "cell_type": "markdown",
   "metadata": {},
   "source": [
    "## Conclusion"
   ]
  },
  {
   "attachments": {},
   "cell_type": "markdown",
   "metadata": {},
   "source": [
    "Overall, predicting income is quite difficult. The data doesn't seem to have a strong relationship to income either due to the wide reaching nature of the survey or the actual lack of a relationship between the survey questions and income.\n",
    "\n",
    "Using a plain logistic regression we achieved coin flip levels of accuracy.\n",
    "\n",
    "Using a plain random forest, we achieved similar accuracy but significantly worse precision/recall/F1.\n",
    "\n",
    "Combing Random Oversampling with Random forest, we helped the precision/recall/f1 scores but not significantly. \n",
    "\n",
    "I think narrowing down the industry would greatly boost our ability to predict income and determine if gender is a significant predictor. Right now there are too many interactions and odd distributions to predict widely, across industries what someone's income will be. We even made income a categorical variable to help the accuracy along since trying to predict it as a numerical target resulted in RMSE's of around $50k which is huge and not very useful. "
   ]
  }
 ],
 "metadata": {
  "kernelspec": {
   "display_name": "base",
   "language": "python",
   "name": "python3"
  },
  "language_info": {
   "codemirror_mode": {
    "name": "ipython",
    "version": 3
   },
   "file_extension": ".py",
   "mimetype": "text/x-python",
   "name": "python",
   "nbconvert_exporter": "python",
   "pygments_lexer": "ipython3",
   "version": "3.9.13"
  },
  "orig_nbformat": 4
 },
 "nbformat": 4,
 "nbformat_minor": 2
}
