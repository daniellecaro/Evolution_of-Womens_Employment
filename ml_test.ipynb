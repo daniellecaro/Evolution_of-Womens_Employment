{
 "cells": [
  {
   "cell_type": "code",
   "execution_count": 53,
   "metadata": {},
   "outputs": [],
   "source": [
    "import pandas as pd\n",
    "import math\n",
    "import numpy as np\n",
    "import matplotlib.pyplot as plt\n",
    "import seaborn as sns\n",
    "\n",
    "from scipy import stats\n",
    "from operator import itemgetter\n",
    "\n",
    "\n",
    "from sklearn.model_selection import train_test_split\n",
    "from sklearn import tree, metrics\n",
    "from sklearn.tree import _tree\n",
    "\n",
    "\n",
    "from sklearn.ensemble import RandomForestRegressor \n",
    "from sklearn.ensemble import RandomForestClassifier \n",
    "from sklearn.ensemble import GradientBoostingRegressor \n",
    "from sklearn.ensemble import GradientBoostingClassifier\n",
    "from sklearn.linear_model import LinearRegression\n",
    "from sklearn.linear_model import LogisticRegression\n",
    "from sklearn.metrics import classification_report, confusion_matrix\n",
    "\n",
    "\n",
    "import warnings\n",
    "warnings.filterwarnings(\"ignore\")"
   ]
  },
  {
   "cell_type": "code",
   "execution_count": 54,
   "metadata": {},
   "outputs": [],
   "source": [
    "df = pd.read_csv('final_cps_data.csv')\n",
    "actual_df = df[df['year'] == df['year'].max()]"
   ]
  },
  {
   "cell_type": "code",
   "execution_count": 55,
   "metadata": {},
   "outputs": [
    {
     "data": {
      "text/plain": [
       "1981"
      ]
     },
     "execution_count": 55,
     "metadata": {},
     "output_type": "execute_result"
    }
   ],
   "source": [
    "df['year'].min()"
   ]
  },
  {
   "cell_type": "code",
   "execution_count": 56,
   "metadata": {},
   "outputs": [
    {
     "data": {
      "text/html": [
       "<div>\n",
       "<style scoped>\n",
       "    .dataframe tbody tr th:only-of-type {\n",
       "        vertical-align: middle;\n",
       "    }\n",
       "\n",
       "    .dataframe tbody tr th {\n",
       "        vertical-align: top;\n",
       "    }\n",
       "\n",
       "    .dataframe thead th {\n",
       "        text-align: right;\n",
       "    }\n",
       "</style>\n",
       "<table border=\"1\" class=\"dataframe\">\n",
       "  <thead>\n",
       "    <tr style=\"text-align: right;\">\n",
       "      <th></th>\n",
       "      <th>year</th>\n",
       "      <th>state_fip</th>\n",
       "      <th>state</th>\n",
       "      <th>metro</th>\n",
       "      <th>relation_to_head_of_house</th>\n",
       "      <th>age</th>\n",
       "      <th>gender</th>\n",
       "      <th>race</th>\n",
       "      <th>marital_status</th>\n",
       "      <th>birthplace</th>\n",
       "      <th>...</th>\n",
       "      <th>protective</th>\n",
       "      <th>foodcare</th>\n",
       "      <th>building</th>\n",
       "      <th>sales</th>\n",
       "      <th>office_admin</th>\n",
       "      <th>farmer</th>\n",
       "      <th>construction</th>\n",
       "      <th>production</th>\n",
       "      <th>transport.2</th>\n",
       "      <th>transport.3</th>\n",
       "    </tr>\n",
       "  </thead>\n",
       "  <tbody>\n",
       "    <tr>\n",
       "      <th>20</th>\n",
       "      <td>2013</td>\n",
       "      <td>50</td>\n",
       "      <td>VT</td>\n",
       "      <td>1.0</td>\n",
       "      <td>101</td>\n",
       "      <td>62</td>\n",
       "      <td>1</td>\n",
       "      <td>1</td>\n",
       "      <td>6</td>\n",
       "      <td>9900.0</td>\n",
       "      <td>...</td>\n",
       "      <td>0</td>\n",
       "      <td>0</td>\n",
       "      <td>0</td>\n",
       "      <td>0</td>\n",
       "      <td>0</td>\n",
       "      <td>0</td>\n",
       "      <td>0</td>\n",
       "      <td>0</td>\n",
       "      <td>0</td>\n",
       "      <td>0</td>\n",
       "    </tr>\n",
       "    <tr>\n",
       "      <th>32</th>\n",
       "      <td>2013</td>\n",
       "      <td>39</td>\n",
       "      <td>OH</td>\n",
       "      <td>3.0</td>\n",
       "      <td>201</td>\n",
       "      <td>59</td>\n",
       "      <td>1</td>\n",
       "      <td>1</td>\n",
       "      <td>1</td>\n",
       "      <td>9900.0</td>\n",
       "      <td>...</td>\n",
       "      <td>0</td>\n",
       "      <td>0</td>\n",
       "      <td>0</td>\n",
       "      <td>0</td>\n",
       "      <td>0</td>\n",
       "      <td>0</td>\n",
       "      <td>1</td>\n",
       "      <td>0</td>\n",
       "      <td>0</td>\n",
       "      <td>0</td>\n",
       "    </tr>\n",
       "    <tr>\n",
       "      <th>34</th>\n",
       "      <td>2013</td>\n",
       "      <td>44</td>\n",
       "      <td>RI</td>\n",
       "      <td>2.0</td>\n",
       "      <td>101</td>\n",
       "      <td>44</td>\n",
       "      <td>1</td>\n",
       "      <td>3</td>\n",
       "      <td>1</td>\n",
       "      <td>20000.0</td>\n",
       "      <td>...</td>\n",
       "      <td>0</td>\n",
       "      <td>0</td>\n",
       "      <td>0</td>\n",
       "      <td>0</td>\n",
       "      <td>0</td>\n",
       "      <td>0</td>\n",
       "      <td>0</td>\n",
       "      <td>0</td>\n",
       "      <td>0</td>\n",
       "      <td>0</td>\n",
       "    </tr>\n",
       "    <tr>\n",
       "      <th>36</th>\n",
       "      <td>2013</td>\n",
       "      <td>12</td>\n",
       "      <td>FL</td>\n",
       "      <td>3.0</td>\n",
       "      <td>101</td>\n",
       "      <td>41</td>\n",
       "      <td>1</td>\n",
       "      <td>1</td>\n",
       "      <td>4</td>\n",
       "      <td>9900.0</td>\n",
       "      <td>...</td>\n",
       "      <td>0</td>\n",
       "      <td>0</td>\n",
       "      <td>0</td>\n",
       "      <td>0</td>\n",
       "      <td>0</td>\n",
       "      <td>0</td>\n",
       "      <td>0</td>\n",
       "      <td>0</td>\n",
       "      <td>0</td>\n",
       "      <td>0</td>\n",
       "    </tr>\n",
       "    <tr>\n",
       "      <th>37</th>\n",
       "      <td>2013</td>\n",
       "      <td>33</td>\n",
       "      <td>NH</td>\n",
       "      <td>1.0</td>\n",
       "      <td>201</td>\n",
       "      <td>35</td>\n",
       "      <td>1</td>\n",
       "      <td>1</td>\n",
       "      <td>1</td>\n",
       "      <td>9900.0</td>\n",
       "      <td>...</td>\n",
       "      <td>0</td>\n",
       "      <td>0</td>\n",
       "      <td>0</td>\n",
       "      <td>0</td>\n",
       "      <td>0</td>\n",
       "      <td>0</td>\n",
       "      <td>0</td>\n",
       "      <td>0</td>\n",
       "      <td>0</td>\n",
       "      <td>1</td>\n",
       "    </tr>\n",
       "  </tbody>\n",
       "</table>\n",
       "<p>5 rows × 85 columns</p>\n",
       "</div>"
      ],
      "text/plain": [
       "    year  state_fip state  metro  relation_to_head_of_house  age  gender  \\\n",
       "20  2013         50    VT    1.0                        101   62       1   \n",
       "32  2013         39    OH    3.0                        201   59       1   \n",
       "34  2013         44    RI    2.0                        101   44       1   \n",
       "36  2013         12    FL    3.0                        101   41       1   \n",
       "37  2013         33    NH    1.0                        201   35       1   \n",
       "\n",
       "    race  marital_status  birthplace  ...  protective  foodcare  building  \\\n",
       "20     1               6      9900.0  ...           0         0         0   \n",
       "32     1               1      9900.0  ...           0         0         0   \n",
       "34     3               1     20000.0  ...           0         0         0   \n",
       "36     1               4      9900.0  ...           0         0         0   \n",
       "37     1               1      9900.0  ...           0         0         0   \n",
       "\n",
       "    sales  office_admin  farmer  construction  production  transport.2  \\\n",
       "20      0             0       0             0           0            0   \n",
       "32      0             0       0             1           0            0   \n",
       "34      0             0       0             0           0            0   \n",
       "36      0             0       0             0           0            0   \n",
       "37      0             0       0             0           0            0   \n",
       "\n",
       "    transport.3  \n",
       "20            0  \n",
       "32            0  \n",
       "34            0  \n",
       "36            0  \n",
       "37            1  \n",
       "\n",
       "[5 rows x 85 columns]"
      ]
     },
     "execution_count": 56,
     "metadata": {},
     "output_type": "execute_result"
    }
   ],
   "source": [
    "actual_df.head()"
   ]
  },
  {
   "cell_type": "code",
   "execution_count": 57,
   "metadata": {},
   "outputs": [
    {
     "data": {
      "text/plain": [
       "Index(['year', 'state_fip', 'state', 'metro', 'relation_to_head_of_house',\n",
       "       'age', 'gender', 'race', 'marital_status', 'birthplace',\n",
       "       'year_of_immigration', 'citizen', 'mother_birthplace',\n",
       "       'father_birthplace', 'foreign_birthplace', 'grade_level_achieved',\n",
       "       'employment_status', 'worker_class', 'worker_class_last_year',\n",
       "       'weeks_worked_last_year', 'hours_per_week', 'union_member_status',\n",
       "       'income', 'longest_job_earnings', 'family_type', 'white', 'black',\n",
       "       'hisp', 'other_race', 'high_school_or_less', 'bachelors_degree',\n",
       "       'advanced_degree', 'potential_experience', 'annual_work_hours',\n",
       "       'full_time_job', 'not_inputed_income', 'hourly_wage',\n",
       "       'personal_consumption_expenditure', 'wage_inflation_factor',\n",
       "       'real_hourly_wage', 'north_east', 'north_central', 'south', 'west',\n",
       "       'occupation_category', 'agriculture', 'mining_construction', 'durables',\n",
       "       'nondurables', 'transport', 'transport.1', 'utilities',\n",
       "       'communications', 'retail_trade', 'wholesale_trade', 'finance',\n",
       "       'social_art_other', 'hospitality', 'medical', 'education',\n",
       "       'professional', 'public_admin', 'manager', 'business',\n",
       "       'financial_operations', 'computer', 'architect', 'scientist',\n",
       "       'socialworker', 'professor', 'legal', 'artist', 'physicians',\n",
       "       'healthcare', 'healthsupport', 'protective', 'foodcare', 'building',\n",
       "       'sales', 'office_admin', 'farmer', 'construction', 'production',\n",
       "       'transport.2', 'transport.3'],\n",
       "      dtype='object')"
      ]
     },
     "execution_count": 57,
     "metadata": {},
     "output_type": "execute_result"
    }
   ],
   "source": [
    "actual_df.columns"
   ]
  },
  {
   "cell_type": "code",
   "execution_count": 58,
   "metadata": {},
   "outputs": [],
   "source": [
    "#Target Gender\n",
    "TARGET_G = 'gender'\n",
    "\n",
    "#Target Wage\n",
    "TARGET_W = 'real_hourly_wage'"
   ]
  },
  {
   "cell_type": "code",
   "execution_count": 72,
   "metadata": {},
   "outputs": [],
   "source": [
    "dropcols = ['year_of_immigration', 'citizen', 'mother_birthplace',\n",
    "            'father_birthplace', 'foreign_birthplace','white', 'black',\n",
    "            'hisp', 'other_race','birthplace','metro','not_inputed_income', 'hourly_wage','state','income', 'longest_job_earnings','state_fip']"
   ]
  },
  {
   "cell_type": "code",
   "execution_count": 73,
   "metadata": {},
   "outputs": [],
   "source": [
    "df_drop = actual_df.drop(dropcols,axis=1)"
   ]
  },
  {
   "cell_type": "code",
   "execution_count": 61,
   "metadata": {},
   "outputs": [],
   "source": [
    "dummy_df = pd.get_dummies(df_drop)"
   ]
  },
  {
   "cell_type": "code",
   "execution_count": 62,
   "metadata": {},
   "outputs": [
    {
     "name": "stdout",
     "output_type": "stream",
     "text": [
      "Training =  (43032, 132)\n",
      "Testing =  (10758, 132)\n"
     ]
    }
   ],
   "source": [
    "#split into X and Y\n",
    "X = dummy_df.drop([TARGET_G,TARGET_W], axis=1)\n",
    "Y = dummy_df[[TARGET_G,TARGET_W]]\n",
    "\n",
    "\n",
    "# random_state=111 for reproduceability\n",
    "X_train, X_test, Y_train, Y_test = train_test_split(X,Y, \\\n",
    "                                                    train_size=0.8, \\\n",
    "                                                    test_size=.2\n",
    "                                                    ) \n",
    "\n",
    "print(\"Training = \", X_train.shape)\n",
    "print(\"Testing = \", X_test.shape)"
   ]
  },
  {
   "cell_type": "code",
   "execution_count": 63,
   "metadata": {},
   "outputs": [],
   "source": [
    "def getCoefLogit( MODEL, TRAIN_DATA ) :\n",
    "    varNames = list( TRAIN_DATA.columns.values )\n",
    "    coef_dict = {}\n",
    "    coef_dict[\"INTERCEPT\"] = MODEL.intercept_[0]\n",
    "    for coef, feat in zip(MODEL.coef_[0],varNames):\n",
    "        coef_dict[feat] = coef\n",
    "    return coef_dict"
   ]
  },
  {
   "cell_type": "code",
   "execution_count": 64,
   "metadata": {},
   "outputs": [
    {
     "data": {
      "text/plain": [
       "array([1, 1, 2, ..., 1, 1, 1], dtype=int64)"
      ]
     },
     "execution_count": 64,
     "metadata": {},
     "output_type": "execute_result"
    }
   ],
   "source": [
    "Y_Pred_Test"
   ]
  },
  {
   "cell_type": "code",
   "execution_count": 65,
   "metadata": {},
   "outputs": [
    {
     "name": "stdout",
     "output_type": "stream",
     "text": [
      "Training Accuracy =  0.7529745305818926\n",
      "Testing Accuracy =  0.7465142219743447\n",
      "Important Variables \n",
      " {'INTERCEPT': -3.494549766010671e-07, 'year': -0.0006103912859739081, 'state_fip': -0.0009149027229610422, 'relation_to_head_of_house': 0.0003543529749481804, 'age': -0.021379599981820836, 'race': 0.00849559235681185, 'marital_status': 0.06931468737176735, 'grade_level_achieved': 0.0007786162586722986, 'employment_status': 0.15941468034049525, 'worker_class': 0.010910880561404426, 'worker_class_last_year': 0.00028035850365493056, 'weeks_worked_last_year': 0.021040160315006454, 'hours_per_week': -0.005931687567543779, 'union_member_status': -0.03395946427081192, 'income': -1.4403142523149074e-05, 'longest_job_earnings': 6.583612415025646e-06, 'family_type': -0.199308324071904, 'high_school_or_less': -0.013233833567064049, 'bachelors_degree': -0.02417438096863432, 'advanced_degree': 0.03740791131098804, 'potential_experience': 0.03198617134078176, 'annual_work_hours': -0.0004622487867309723, 'full_time_job': -0.4280389997617855, 'personal_consumption_expenditure': -3.214485019819182e-05, 'wage_inflation_factor': -2.9109570798687337e-07, 'north_east': 0.026901735256166993, 'north_central': 0.026416976014564084, 'south': 0.06056378812943851, 'west': -0.11388280262486962, 'agriculture': -0.7769276981615558, 'mining_construction': -0.7957573978387368, 'durables': -0.2597240111812411, 'nondurables': 0.14417563295358346, 'transport': -0.29826405029080094, 'transport.1': -0.3557300879479362, 'utilities': -0.7233929522303812, 'communications': 0.08016414922430139, 'retail_trade': -0.07279813215037226, 'wholesale_trade': -0.5181963036442337, 'finance': 0.4059049377019055, 'social_art_other': 0.5644466675668206, 'hospitality': -0.012983319865572272, 'medical': 1.0375412436268463, 'education': 0.7519616695360911, 'professional': 0.2068690594506789, 'public_admin': 0.2669802020779638, 'manager': 0.22725429552974782, 'business': 0.4548431851033615, 'financial_operations': 0.4962657605446856, 'computer': -0.12915240373677536, 'architect': -1.2214012558494434, 'scientist': 0.10169266513800124, 'socialworker': 0.26678359968863435, 'professor': -0.48280911524869574, 'legal': 0.8341954385370232, 'artist': -0.07143186841052905, 'physicians': 0.20123508982989435, 'healthcare': 0.9927152606868778, 'healthsupport': 1.0201508827579353, 'protective': -0.5441971781834773, 'foodcare': 0.060909796923551904, 'building': -0.90086828923958, 'sales': 0.0591884375235625, 'office_admin': 0.71146729201041, 'farmer': -0.10533574043975497, 'construction': -1.4059106606818421, 'production': -0.20986540776035373, 'transport.2': -0.29826405029080094, 'transport.3': -0.3557300879479362, 'state_56': 0.12557905042357947, 'state_AK': 0.016461305863348274, 'state_AL': -0.08836470714632341, 'state_AR': -0.05804431411548253, 'state_AZ': -0.05123716398444019, 'state_CA': -0.04143316998365406, 'state_CO': 0.09764899383046678, 'state_CT': 0.09574793467815161, 'state_DC': 0.2334943698986861, 'state_DE': -0.0518842032820276, 'state_FL': -0.1028016308781087, 'state_GA': -0.007437174657754804, 'state_HI': 0.05274860457947851, 'state_IA': 0.10288636734339558, 'state_ID': -0.15575613279944225, 'state_IL': 0.08575427351337832, 'state_IN': 0.07253845870987909, 'state_KS': -0.010637457454797043, 'state_KY': -0.1816377012976861, 'state_LA': 0.011896394567116789, 'state_MA': 0.0019100261253815402, 'state_MD': 0.08639927448307305, 'state_ME': -0.18673318643441061, 'state_MI': 0.051802870184344645, 'state_MN': -0.01835220550648118, 'state_MO': -0.060151411181725824, 'state_MS': 0.39303155733441186, 'state_MT': -0.037680711407201625, 'state_NC': -0.06546753575237135, 'state_ND': -0.04848999963543379, 'state_NE': 0.008972977920192018, 'state_NH': -0.04276005397716865, 'state_NJ': 0.10729688220301493, 'state_NM': -0.08914355493889933, 'state_NV': 0.019698633396483263, 'state_NY': -0.043932189713567146, 'state_OH': -0.15107097598642272, 'state_OK': 0.05460416754876935, 'state_OR': 0.005714070294882966, 'state_PA': -0.07192696619527797, 'state_RI': 0.09251533037669847, 'state_SC': -0.07425257926434144, 'state_SD': 0.0353213861317862, 'state_TN': -0.12742401949805385, 'state_TX': -0.04771817676617987, 'state_UT': -0.18810103776614218, 'state_VA': 0.08277720258541782, 'state_VT': 0.07478395819334735, 'state_WA': 0.13161830986667206, 'state_WI': -0.0421573080235529, 'state_WV': 0.0033928643702911465, 'occupation_category_Business Operators': 0.4548431851033615, 'occupation_category_Community and Social Workers': 0.26678359968863435, 'occupation_category_Computer and Math Technicians': -0.12915240373677536, 'occupation_category_Construction, Extraction, Installation': -1.4059106606818421, 'occupation_category_Farming, Fishing & Forestry': -0.10533574043975497, 'occupation_category_Financial Operators': 0.4962657605446856, 'occupation_category_Lawyers, Judges, Physicans, and Dentists': 0.20123508982989435, 'occupation_category_Managers': 0.22725429552974782, 'occupation_category_Office and Admin Support': 0.71146729201041, 'occupation_category_Other': 0.3923419528186911, 'occupation_category_Production': -0.20986540776035373, 'occupation_category_Protective Service Occupations': -0.5441971781834773, 'occupation_category_Transportation and Materials Moving': -0.3557300879479362}\n"
     ]
    }
   ],
   "source": [
    "#predict gender using logistic regression\n",
    "model = LogisticRegression(solver='newton-cg', max_iter = 1000)\n",
    "model = model.fit(X_train,Y_train['gender'])\n",
    "\n",
    "\n",
    "Y_Pred_Train = model.predict(X_train)\n",
    "Y_Pred_Test = model.predict(X_test)\n",
    "\n",
    "train_acc = metrics.accuracy_score(Y_train['gender'], Y_Pred_Train)\n",
    "test_acc = metrics.accuracy_score(Y_test['gender'], Y_Pred_Test)\n",
    "\n",
    "print('Training Accuracy = ', train_acc)\n",
    "print('Testing Accuracy = ', test_acc)\n",
    "\n",
    "important_variables = getCoefLogit(model,X_train)\n",
    "print('Important Variables \\n',important_variables)"
   ]
  },
  {
   "cell_type": "code",
   "execution_count": 66,
   "metadata": {},
   "outputs": [
    {
     "name": "stdout",
     "output_type": "stream",
     "text": [
      "Accuracy Train: 0.7360568878973787\n",
      "Accuracy Test: 0.7291318088864102\n"
     ]
    }
   ],
   "source": [
    "#predict gender using randomforest\n",
    "fm01_RF = RandomForestClassifier(n_estimators = 100, max_depth=5,random_state=111)\n",
    "fm01_RF = fm01_RF.fit(X_train, Y_train[TARGET_G])\n",
    "\n",
    "rfY_Pred_train = fm01_RF.predict(X_train)\n",
    "rfY_Pred_test = fm01_RF.predict(X_test)\n",
    "\n",
    "# show how accurately we can predict defaults\n",
    "print(\"Accuracy Train:\",metrics.accuracy_score(Y_train[TARGET_G], rfY_Pred_train))\n",
    "print(\"Accuracy Test:\",metrics.accuracy_score(Y_test[TARGET_G], rfY_Pred_test))"
   ]
  },
  {
   "cell_type": "code",
   "execution_count": 67,
   "metadata": {},
   "outputs": [],
   "source": [
    "def getEnsembleTreeVars(ENSTREE, varNames) :\n",
    "    importance = ENSTREE.feature_importances_\n",
    "    index = np.argsort(importance)\n",
    "    theList = []\n",
    "    for i in index :\n",
    "        imp_val = importance[i]\n",
    "        if imp_val > np.average(ENSTREE.feature_importances_) :\n",
    "            v = int(imp_val / np.max(ENSTREE.feature_importances_) * 100)\n",
    "            theList.append((varNames[i], v))\n",
    "    theList = sorted(theList,key=itemgetter(1),reverse=True)\n",
    "    return theList"
   ]
  },
  {
   "cell_type": "code",
   "execution_count": 68,
   "metadata": {},
   "outputs": [],
   "source": [
    "feature_cols = list(X.columns.values)"
   ]
  },
  {
   "cell_type": "code",
   "execution_count": 71,
   "metadata": {},
   "outputs": [
    {
     "name": "stdout",
     "output_type": "stream",
     "text": [
      "GB RMSE Train: 2.2247818142422404\n",
      "GB RMSE Test: 7.61205893291046\n",
      "[('longest_job_earnings', 100), ('income', 64), ('annual_work_hours', 27), ('wholesale_trade', 16), ('state_IL', 11)]\n"
     ]
    }
   ],
   "source": [
    "#predict real_hourly_wage using gradientboosting\n",
    "amt_m01_GB = GradientBoostingRegressor(n_estimators = 100,max_depth=3,random_state=511)\n",
    "amt_m01_GB = amt_m01_GB.fit(X_train, Y_train[TARGET_W])\n",
    "\n",
    "a_Y_Pred_train = amt_m01_GB.predict(X_train)\n",
    "a_Y_Pred_test = amt_m01_GB.predict(X_test)\n",
    "\n",
    "RMSE_Train = math.sqrt(metrics.mean_squared_error(Y_train[TARGET_W], a_Y_Pred_train))\n",
    "RMSE_Test = math.sqrt(metrics.mean_squared_error(Y_test[TARGET_W], a_Y_Pred_test))\n",
    "\n",
    "print(\"GB RMSE Train:\", RMSE_Train)\n",
    "print(\"GB RMSE Test:\", RMSE_Test)\n",
    "\n",
    "RMSE_GB = RMSE_Test\n",
    "\n",
    "vars_GB_amt = getEnsembleTreeVars(amt_m01_GB, feature_cols)\n",
    "print(vars_GB_amt)"
   ]
  }
 ],
 "metadata": {
  "kernelspec": {
   "display_name": "base",
   "language": "python",
   "name": "python3"
  },
  "language_info": {
   "codemirror_mode": {
    "name": "ipython",
    "version": 3
   },
   "file_extension": ".py",
   "mimetype": "text/x-python",
   "name": "python",
   "nbconvert_exporter": "python",
   "pygments_lexer": "ipython3",
   "version": "3.9.16"
  },
  "orig_nbformat": 4
 },
 "nbformat": 4,
 "nbformat_minor": 2
}
